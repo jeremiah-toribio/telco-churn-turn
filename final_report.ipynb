{
 "cells": [
  {
   "cell_type": "markdown",
   "metadata": {},
   "source": [
    "# ☎️ Telco Churn Predictions"
   ]
  },
  {
   "cell_type": "markdown",
   "metadata": {},
   "source": [
    "## ✔️ Goals:\n",
    "- Explore associations to churn and other customer data\n",
    "- Predict probably a customer will churn (unsubscribe) from Telco utilizing machine learning models\n",
    "- "
   ]
  },
  {
   "cell_type": "markdown",
   "metadata": {},
   "source": [
    "## 📦 Imports"
   ]
  },
  {
   "cell_type": "code",
   "execution_count": 62,
   "metadata": {},
   "outputs": [],
   "source": [
    "# Modularization\n",
    "import env\n",
    "import os\n",
    "import acquire\n",
    "import prepare\n",
    "import mods as m\n",
    "# Ignore Warning - For Presentation\n",
    "import warnings\n",
    "warnings.filterwarnings(\"ignore\")\n",
    "# Array and Dataframes\n",
    "import numpy as np\n",
    "import pandas as pd\n",
    "# Evaluation: Visualization\n",
    "import seaborn as sns\n",
    "import matplotlib.pyplot as plt\n",
    "plt.style.use('fivethirtyeight')\n",
    "# Evaluation: Statistical Analysis\n",
    "from scipy import stats\n",
    "# Logistic Regression\n",
    "from sklearn.linear_model import LogisticRegression as lr\n",
    "# Decision Tree\n",
    "from sklearn.tree import DecisionTreeClassifier as dt, plot_tree, export_text\n",
    "# K Nearest Neighbor\n",
    "from sklearn.neighbors import KNeighborsClassifier\n",
    "# Metrics\n",
    "from sklearn.metrics import accuracy_score, precision_score, recall_score,\\\n",
    "classification_report, confusion_matrix, ConfusionMatrixDisplay"
   ]
  },
  {
   "cell_type": "markdown",
   "metadata": {},
   "source": [
    "## 🎣 Acquire\n",
    "\n",
    "- Data had 37 columns, 7043 rows before preparation\n",
    "- Columns are representative of data relative to demographics, services subscribed and payment/contract information\n",
    "- Rows are representative of customers and their respective data \n",
    " "
   ]
  },
  {
   "cell_type": "markdown",
   "metadata": {},
   "source": [
    "## 🍱 Prepare\n",
    "- Analyzed for null or duplicate data\n",
    "- Encoded multicategorical type data with dummy columns\n",
    "- Encoded binary categorical type data\n",
    "- Dropped all useless dummy columns\n",
    "- Normalized numerical data by dropping extra symbols and spaces, changed type to numeric type\n",
    "- Snake case columns\n",
    "- Split data for training, validate and test (repectively; ~60,~20,~20), stratified on 'churn'\n",
    "- Assume no other changes"
   ]
  },
  {
   "cell_type": "markdown",
   "metadata": {},
   "source": [
    "## 📒 Data Dictionary\n",
    "--- \n",
    "| Feature        | Definition                                   |\n",
    "| ---            | ---                                          |\n",
    "| customer_id    | string; randomized 4 digit - 5 character identification code |\n",
    "| gender         | string; male/female, determines account owner gender |\n",
    "| senior_citizen | string; binary encoded, determines if account owner is a senior citizen |\n",
    "| partner        | string; yes/no, determines if account owner has a partner |\n",
    "| dependents     | string; yes/no, determines if account owner has any dependents |\n",
    "| tenure         | integer; the number of years the customer has been with the company |\n",
    "| phone_service  | string; yes/no/No phone service, multicategorical data to determine if the customer uses phone service |\n",
    "| internet_service_type | str; DSL/Fiber optic/No internet service, multicategorical data to determine what internet service type is used by the customer |\n",
    "| internet_service_type_id | int; 1/2/3, determines what type of internet service plan identifier the customer has |\n",
    "| online_security| string; yes/no/No internet service, determines if the customer pays for the online security feature |\n",
    "| online_backup  | string; yes/no determine if the customer has this feature |\n",
    "| streaming_tv   | string; yes/no determine if the customer has this feature |\n",
    "| streaming_movies | string; yes/no determine if the customer this feature |\n",
    "| paperless_billing | string; yes/no determine if the customer has this feature|\n",
    "| payment_type_id | integer; 1/2/3/4, determines what identifier for form of payment the customer utilizes |\n",
    "| monthly_charges | integer; the amount the customer pays monthly |\n",
    "| total_charges | integer; a total accumilation of what the customer has paid since beginning their service plan |\n",
    "| churn | str; yes/no, determines whether or not a customer has churned, this is our target |\n",
    "| payment_type | str; Mailed check/Electronic check/Credit card(automatic)/Credit card(manual), multicategorical data to determine the customer payment type in detail |\n",
    "| contract_type | str; One year/Month-to-month/Two year, the type of contract type signed by the customer to determine length of service |\n",
    "| Encoded dummy columns of respective categorical types above | N/A |"
   ]
  },
  {
   "cell_type": "code",
   "execution_count": 2,
   "metadata": {},
   "outputs": [
    {
     "name": "stdout",
     "output_type": "stream",
     "text": [
      "Dataframe: (7043, 46) 100%\n",
      "\n",
      "Train: (4507, 46) | ~60%\n",
      "Validate: (1127, 46) | ~20%\n",
      "Test: (1409, 46) | ~20%\n"
     ]
    }
   ],
   "source": [
    "# combination of acquire & prepare in one function\n",
    "telco = prepare.prep_telco()\n",
    "# seperate data for training, validation and testing\n",
    "train, validate, test = prepare.splitter(telco,target='churn')"
   ]
  },
  {
   "cell_type": "markdown",
   "metadata": {},
   "source": [
    "## 🎞️ Data Preview"
   ]
  },
  {
   "cell_type": "code",
   "execution_count": 3,
   "metadata": {},
   "outputs": [],
   "source": [
    "# view all columns with associated values to observe\n",
    "pd.set_option('display.max_columns', None)"
   ]
  },
  {
   "cell_type": "code",
   "execution_count": 4,
   "metadata": {},
   "outputs": [
    {
     "data": {
      "text/html": [
       "<div>\n",
       "<style scoped>\n",
       "    .dataframe tbody tr th:only-of-type {\n",
       "        vertical-align: middle;\n",
       "    }\n",
       "\n",
       "    .dataframe tbody tr th {\n",
       "        vertical-align: top;\n",
       "    }\n",
       "\n",
       "    .dataframe thead th {\n",
       "        text-align: right;\n",
       "    }\n",
       "</style>\n",
       "<table border=\"1\" class=\"dataframe\">\n",
       "  <thead>\n",
       "    <tr style=\"text-align: right;\">\n",
       "      <th></th>\n",
       "      <th>customer_id</th>\n",
       "      <th>gender</th>\n",
       "      <th>senior_citizen</th>\n",
       "      <th>partner</th>\n",
       "      <th>dependents</th>\n",
       "      <th>tenure</th>\n",
       "      <th>phone_service</th>\n",
       "      <th>multiple_lines</th>\n",
       "      <th>internet_service_type_id</th>\n",
       "      <th>online_security</th>\n",
       "      <th>online_backup</th>\n",
       "      <th>device_protection</th>\n",
       "      <th>tech_support</th>\n",
       "      <th>streaming_tv</th>\n",
       "      <th>streaming_movies</th>\n",
       "      <th>contract_type_id</th>\n",
       "      <th>paperless_billing</th>\n",
       "      <th>payment_type_id</th>\n",
       "      <th>monthly_charges</th>\n",
       "      <th>total_charges</th>\n",
       "      <th>churn</th>\n",
       "      <th>internet_service_type</th>\n",
       "      <th>payment_type</th>\n",
       "      <th>contract_type</th>\n",
       "      <th>partner_binary</th>\n",
       "      <th>dependents_binary</th>\n",
       "      <th>phone_service_binary</th>\n",
       "      <th>gender_binary</th>\n",
       "      <th>paperless_billing_binary</th>\n",
       "      <th>churn_binary</th>\n",
       "      <th>multiple_lines_no_phone_service</th>\n",
       "      <th>multiple_lines_yes</th>\n",
       "      <th>online_security_yes</th>\n",
       "      <th>online_backup_yes</th>\n",
       "      <th>payment_type_credit_card_(automatic)</th>\n",
       "      <th>payment_type_electronic_check</th>\n",
       "      <th>payment_type_mailed_check</th>\n",
       "      <th>contract_type_one_year</th>\n",
       "      <th>contract_type_two_year</th>\n",
       "      <th>tech_support_yes</th>\n",
       "      <th>streaming_tv_yes</th>\n",
       "      <th>streaming_movies_yes</th>\n",
       "      <th>device_protection_yes</th>\n",
       "      <th>internet_service_type_fiber_optic</th>\n",
       "      <th>internet_service_type_none</th>\n",
       "      <th>contract_type_month_to_month</th>\n",
       "    </tr>\n",
       "  </thead>\n",
       "  <tbody>\n",
       "    <tr>\n",
       "      <th>6458</th>\n",
       "      <td>8258-GSTJK</td>\n",
       "      <td>Male</td>\n",
       "      <td>1</td>\n",
       "      <td>No</td>\n",
       "      <td>No</td>\n",
       "      <td>3</td>\n",
       "      <td>Yes</td>\n",
       "      <td>Yes</td>\n",
       "      <td>2</td>\n",
       "      <td>No</td>\n",
       "      <td>No</td>\n",
       "      <td>No</td>\n",
       "      <td>No</td>\n",
       "      <td>No</td>\n",
       "      <td>No</td>\n",
       "      <td>1</td>\n",
       "      <td>Yes</td>\n",
       "      <td>1</td>\n",
       "      <td>77.00</td>\n",
       "      <td>237.75</td>\n",
       "      <td>Yes</td>\n",
       "      <td>Fiber optic</td>\n",
       "      <td>Electronic check</td>\n",
       "      <td>Month-to-month</td>\n",
       "      <td>0</td>\n",
       "      <td>0</td>\n",
       "      <td>1</td>\n",
       "      <td>1</td>\n",
       "      <td>1</td>\n",
       "      <td>1</td>\n",
       "      <td>0</td>\n",
       "      <td>1</td>\n",
       "      <td>0</td>\n",
       "      <td>0</td>\n",
       "      <td>0</td>\n",
       "      <td>1</td>\n",
       "      <td>0</td>\n",
       "      <td>0</td>\n",
       "      <td>0</td>\n",
       "      <td>0</td>\n",
       "      <td>0</td>\n",
       "      <td>0</td>\n",
       "      <td>0</td>\n",
       "      <td>1</td>\n",
       "      <td>0</td>\n",
       "      <td>1</td>\n",
       "    </tr>\n",
       "    <tr>\n",
       "      <th>5776</th>\n",
       "      <td>6259-WJQLC</td>\n",
       "      <td>Male</td>\n",
       "      <td>1</td>\n",
       "      <td>No</td>\n",
       "      <td>No</td>\n",
       "      <td>32</td>\n",
       "      <td>Yes</td>\n",
       "      <td>Yes</td>\n",
       "      <td>2</td>\n",
       "      <td>No</td>\n",
       "      <td>No</td>\n",
       "      <td>Yes</td>\n",
       "      <td>No</td>\n",
       "      <td>No</td>\n",
       "      <td>No</td>\n",
       "      <td>1</td>\n",
       "      <td>Yes</td>\n",
       "      <td>4</td>\n",
       "      <td>81.10</td>\n",
       "      <td>2619.25</td>\n",
       "      <td>No</td>\n",
       "      <td>Fiber optic</td>\n",
       "      <td>Credit card (automatic)</td>\n",
       "      <td>Month-to-month</td>\n",
       "      <td>0</td>\n",
       "      <td>0</td>\n",
       "      <td>1</td>\n",
       "      <td>1</td>\n",
       "      <td>1</td>\n",
       "      <td>0</td>\n",
       "      <td>0</td>\n",
       "      <td>1</td>\n",
       "      <td>0</td>\n",
       "      <td>0</td>\n",
       "      <td>1</td>\n",
       "      <td>0</td>\n",
       "      <td>0</td>\n",
       "      <td>0</td>\n",
       "      <td>0</td>\n",
       "      <td>0</td>\n",
       "      <td>0</td>\n",
       "      <td>0</td>\n",
       "      <td>1</td>\n",
       "      <td>1</td>\n",
       "      <td>0</td>\n",
       "      <td>1</td>\n",
       "    </tr>\n",
       "    <tr>\n",
       "      <th>4919</th>\n",
       "      <td>3878-AVSOQ</td>\n",
       "      <td>Female</td>\n",
       "      <td>1</td>\n",
       "      <td>No</td>\n",
       "      <td>No</td>\n",
       "      <td>1</td>\n",
       "      <td>Yes</td>\n",
       "      <td>No</td>\n",
       "      <td>2</td>\n",
       "      <td>No</td>\n",
       "      <td>No</td>\n",
       "      <td>No</td>\n",
       "      <td>No</td>\n",
       "      <td>No</td>\n",
       "      <td>No</td>\n",
       "      <td>1</td>\n",
       "      <td>Yes</td>\n",
       "      <td>1</td>\n",
       "      <td>71.25</td>\n",
       "      <td>71.25</td>\n",
       "      <td>No</td>\n",
       "      <td>Fiber optic</td>\n",
       "      <td>Electronic check</td>\n",
       "      <td>Month-to-month</td>\n",
       "      <td>0</td>\n",
       "      <td>0</td>\n",
       "      <td>1</td>\n",
       "      <td>0</td>\n",
       "      <td>1</td>\n",
       "      <td>0</td>\n",
       "      <td>0</td>\n",
       "      <td>0</td>\n",
       "      <td>0</td>\n",
       "      <td>0</td>\n",
       "      <td>0</td>\n",
       "      <td>1</td>\n",
       "      <td>0</td>\n",
       "      <td>0</td>\n",
       "      <td>0</td>\n",
       "      <td>0</td>\n",
       "      <td>0</td>\n",
       "      <td>0</td>\n",
       "      <td>0</td>\n",
       "      <td>1</td>\n",
       "      <td>0</td>\n",
       "      <td>1</td>\n",
       "    </tr>\n",
       "    <tr>\n",
       "      <th>6682</th>\n",
       "      <td>8909-BOLNL</td>\n",
       "      <td>Male</td>\n",
       "      <td>0</td>\n",
       "      <td>No</td>\n",
       "      <td>No</td>\n",
       "      <td>3</td>\n",
       "      <td>Yes</td>\n",
       "      <td>No</td>\n",
       "      <td>3</td>\n",
       "      <td>No internet service</td>\n",
       "      <td>No internet service</td>\n",
       "      <td>No internet service</td>\n",
       "      <td>No internet service</td>\n",
       "      <td>No internet service</td>\n",
       "      <td>No internet service</td>\n",
       "      <td>2</td>\n",
       "      <td>No</td>\n",
       "      <td>2</td>\n",
       "      <td>21.20</td>\n",
       "      <td>52.05</td>\n",
       "      <td>No</td>\n",
       "      <td>None</td>\n",
       "      <td>Mailed check</td>\n",
       "      <td>One year</td>\n",
       "      <td>0</td>\n",
       "      <td>0</td>\n",
       "      <td>1</td>\n",
       "      <td>1</td>\n",
       "      <td>0</td>\n",
       "      <td>0</td>\n",
       "      <td>0</td>\n",
       "      <td>0</td>\n",
       "      <td>0</td>\n",
       "      <td>0</td>\n",
       "      <td>0</td>\n",
       "      <td>0</td>\n",
       "      <td>1</td>\n",
       "      <td>1</td>\n",
       "      <td>0</td>\n",
       "      <td>0</td>\n",
       "      <td>0</td>\n",
       "      <td>0</td>\n",
       "      <td>0</td>\n",
       "      <td>0</td>\n",
       "      <td>1</td>\n",
       "      <td>0</td>\n",
       "    </tr>\n",
       "    <tr>\n",
       "      <th>5911</th>\n",
       "      <td>6674-KVJHG</td>\n",
       "      <td>Female</td>\n",
       "      <td>0</td>\n",
       "      <td>No</td>\n",
       "      <td>No</td>\n",
       "      <td>11</td>\n",
       "      <td>Yes</td>\n",
       "      <td>Yes</td>\n",
       "      <td>3</td>\n",
       "      <td>No internet service</td>\n",
       "      <td>No internet service</td>\n",
       "      <td>No internet service</td>\n",
       "      <td>No internet service</td>\n",
       "      <td>No internet service</td>\n",
       "      <td>No internet service</td>\n",
       "      <td>2</td>\n",
       "      <td>No</td>\n",
       "      <td>1</td>\n",
       "      <td>25.20</td>\n",
       "      <td>245.15</td>\n",
       "      <td>No</td>\n",
       "      <td>None</td>\n",
       "      <td>Electronic check</td>\n",
       "      <td>One year</td>\n",
       "      <td>0</td>\n",
       "      <td>0</td>\n",
       "      <td>1</td>\n",
       "      <td>0</td>\n",
       "      <td>0</td>\n",
       "      <td>0</td>\n",
       "      <td>0</td>\n",
       "      <td>1</td>\n",
       "      <td>0</td>\n",
       "      <td>0</td>\n",
       "      <td>0</td>\n",
       "      <td>1</td>\n",
       "      <td>0</td>\n",
       "      <td>1</td>\n",
       "      <td>0</td>\n",
       "      <td>0</td>\n",
       "      <td>0</td>\n",
       "      <td>0</td>\n",
       "      <td>0</td>\n",
       "      <td>0</td>\n",
       "      <td>1</td>\n",
       "      <td>0</td>\n",
       "    </tr>\n",
       "  </tbody>\n",
       "</table>\n",
       "</div>"
      ],
      "text/plain": [
       "     customer_id  gender  senior_citizen partner dependents  tenure  \\\n",
       "6458  8258-GSTJK    Male               1      No         No       3   \n",
       "5776  6259-WJQLC    Male               1      No         No      32   \n",
       "4919  3878-AVSOQ  Female               1      No         No       1   \n",
       "6682  8909-BOLNL    Male               0      No         No       3   \n",
       "5911  6674-KVJHG  Female               0      No         No      11   \n",
       "\n",
       "     phone_service multiple_lines  internet_service_type_id  \\\n",
       "6458           Yes            Yes                         2   \n",
       "5776           Yes            Yes                         2   \n",
       "4919           Yes             No                         2   \n",
       "6682           Yes             No                         3   \n",
       "5911           Yes            Yes                         3   \n",
       "\n",
       "          online_security        online_backup    device_protection  \\\n",
       "6458                   No                   No                   No   \n",
       "5776                   No                   No                  Yes   \n",
       "4919                   No                   No                   No   \n",
       "6682  No internet service  No internet service  No internet service   \n",
       "5911  No internet service  No internet service  No internet service   \n",
       "\n",
       "             tech_support         streaming_tv     streaming_movies  \\\n",
       "6458                   No                   No                   No   \n",
       "5776                   No                   No                   No   \n",
       "4919                   No                   No                   No   \n",
       "6682  No internet service  No internet service  No internet service   \n",
       "5911  No internet service  No internet service  No internet service   \n",
       "\n",
       "      contract_type_id paperless_billing  payment_type_id  monthly_charges  \\\n",
       "6458                 1               Yes                1            77.00   \n",
       "5776                 1               Yes                4            81.10   \n",
       "4919                 1               Yes                1            71.25   \n",
       "6682                 2                No                2            21.20   \n",
       "5911                 2                No                1            25.20   \n",
       "\n",
       "      total_charges churn internet_service_type             payment_type  \\\n",
       "6458         237.75   Yes           Fiber optic         Electronic check   \n",
       "5776        2619.25    No           Fiber optic  Credit card (automatic)   \n",
       "4919          71.25    No           Fiber optic         Electronic check   \n",
       "6682          52.05    No                  None             Mailed check   \n",
       "5911         245.15    No                  None         Electronic check   \n",
       "\n",
       "       contract_type  partner_binary  dependents_binary  phone_service_binary  \\\n",
       "6458  Month-to-month               0                  0                     1   \n",
       "5776  Month-to-month               0                  0                     1   \n",
       "4919  Month-to-month               0                  0                     1   \n",
       "6682        One year               0                  0                     1   \n",
       "5911        One year               0                  0                     1   \n",
       "\n",
       "      gender_binary  paperless_billing_binary  churn_binary  \\\n",
       "6458              1                         1             1   \n",
       "5776              1                         1             0   \n",
       "4919              0                         1             0   \n",
       "6682              1                         0             0   \n",
       "5911              0                         0             0   \n",
       "\n",
       "      multiple_lines_no_phone_service  multiple_lines_yes  \\\n",
       "6458                                0                   1   \n",
       "5776                                0                   1   \n",
       "4919                                0                   0   \n",
       "6682                                0                   0   \n",
       "5911                                0                   1   \n",
       "\n",
       "      online_security_yes  online_backup_yes  \\\n",
       "6458                    0                  0   \n",
       "5776                    0                  0   \n",
       "4919                    0                  0   \n",
       "6682                    0                  0   \n",
       "5911                    0                  0   \n",
       "\n",
       "      payment_type_credit_card_(automatic)  payment_type_electronic_check  \\\n",
       "6458                                     0                              1   \n",
       "5776                                     1                              0   \n",
       "4919                                     0                              1   \n",
       "6682                                     0                              0   \n",
       "5911                                     0                              1   \n",
       "\n",
       "      payment_type_mailed_check  contract_type_one_year  \\\n",
       "6458                          0                       0   \n",
       "5776                          0                       0   \n",
       "4919                          0                       0   \n",
       "6682                          1                       1   \n",
       "5911                          0                       1   \n",
       "\n",
       "      contract_type_two_year  tech_support_yes  streaming_tv_yes  \\\n",
       "6458                       0                 0                 0   \n",
       "5776                       0                 0                 0   \n",
       "4919                       0                 0                 0   \n",
       "6682                       0                 0                 0   \n",
       "5911                       0                 0                 0   \n",
       "\n",
       "      streaming_movies_yes  device_protection_yes  \\\n",
       "6458                     0                      0   \n",
       "5776                     0                      1   \n",
       "4919                     0                      0   \n",
       "6682                     0                      0   \n",
       "5911                     0                      0   \n",
       "\n",
       "      internet_service_type_fiber_optic  internet_service_type_none  \\\n",
       "6458                                  1                           0   \n",
       "5776                                  1                           0   \n",
       "4919                                  1                           0   \n",
       "6682                                  0                           1   \n",
       "5911                                  0                           1   \n",
       "\n",
       "      contract_type_month_to_month  \n",
       "6458                             1  \n",
       "5776                             1  \n",
       "4919                             1  \n",
       "6682                             0  \n",
       "5911                             0  "
      ]
     },
     "execution_count": 4,
     "metadata": {},
     "output_type": "execute_result"
    }
   ],
   "source": [
    "# random sample of data to examine\n",
    "train.sample(5)"
   ]
  },
  {
   "cell_type": "code",
   "execution_count": null,
   "metadata": {},
   "outputs": [],
   "source": [
    "train.info()"
   ]
  },
  {
   "cell_type": "markdown",
   "metadata": {},
   "source": [
    "## 🧭 Explore"
   ]
  },
  {
   "cell_type": "markdown",
   "metadata": {},
   "source": [
    "### Explore: Feature Engineering"
   ]
  },
  {
   "cell_type": "code",
   "execution_count": 6,
   "metadata": {},
   "outputs": [],
   "source": [
    "# Compiling all additional services into a column that would measure the sum of services subscribed\n",
    "train['additional_services'] = (train[['device_protection','online_security','streaming_movies','streaming_tv','online_backup','tech_support']] == 'Yes').sum(axis=1)\n",
    "validate['additional_services'] = (train[['device_protection','online_security','streaming_movies','streaming_tv','online_backup','tech_support']] == 'Yes').sum(axis=1)\n",
    "test['additional_services'] = (train[['device_protection','online_security','streaming_movies','streaming_tv','online_backup','tech_support']] == 'Yes').sum(axis=1)"
   ]
  },
  {
   "cell_type": "code",
   "execution_count": 7,
   "metadata": {},
   "outputs": [],
   "source": [
    "# Function to loop through desired df and respective columns to visualize\n",
    "cat_cols, num_cols = m.organize_columns(train)\n",
    "# Compiled categorical columns\n",
    "cat_cols = train[cat_cols]"
   ]
  },
  {
   "cell_type": "markdown",
   "metadata": {},
   "source": [
    "## 1. How many customers normally churn?"
   ]
  },
  {
   "cell_type": "code",
   "execution_count": 8,
   "metadata": {},
   "outputs": [
    {
     "data": {
      "image/png": "[encoded data removed]",
      "text/plain": [
       "<Figure size 640x480 with 1 Axes>"
      ]
     },
     "metadata": {},
     "output_type": "display_data"
    }
   ],
   "source": [
    "# Percentage of customers that churn ( also our baseline prediction, 73.5% )\n",
    "ax = sns.countplot(data=train,x='churn',alpha=0.8,linewidth=.4,edgecolor='black')\n",
    "m.without_hue(ax,train['churn'])"
   ]
  },
  {
   "cell_type": "markdown",
   "metadata": {},
   "source": [
    "Establish our understanding of target and moving forward with modeling we establish our baseline of *~73.5%* as well as visualize the distribution.\n",
    "---\n",
    "___"
   ]
  },
  {
   "cell_type": "markdown",
   "metadata": {},
   "source": [
    "## 2. The longer the customer has been with the company the less likely they are to churn due to ease of services.\n"
   ]
  },
  {
   "cell_type": "markdown",
   "metadata": {},
   "source": [
    "**Set null Hypothesis to examine these two features**\n",
    "___\n",
    "\n",
    "Null $H_0$: There is **no** association between *churn* & *tenure*\\\n",
    "Null $H_a$: There *is* an association between *churn* & *tenure*"
   ]
  },
  {
   "cell_type": "code",
   "execution_count": 10,
   "metadata": {},
   "outputs": [
    {
     "name": "stdout",
     "output_type": "stream",
     "text": [
      "We can reject the null hypothesis with a p-score of: {5.213539721523729e-130}\n"
     ]
    }
   ],
   "source": [
    "# Masking & defining our desired values\n",
    "tenure_churned = train[train.churn == 'Yes']['tenure']\n",
    "tenure_nochurn = train[train.churn == 'No']['tenure']\n",
    "\n",
    "# Set alpha\n",
    "α = .05\n",
    "# Assuming equal variance\n",
    "t_stat, p = stats.ttest_ind(tenure_churned,tenure_nochurn,equal_var=True)\n",
    "p\n",
    "\n",
    "m.check_p(p)"
   ]
  },
  {
   "cell_type": "code",
   "execution_count": 41,
   "metadata": {},
   "outputs": [
    {
     "data": {
      "image/png": "[encoded data removed]",
      "text/plain": [
       "<Figure size 640x480 with 1 Axes>"
      ]
     },
     "metadata": {},
     "output_type": "display_data"
    }
   ],
   "source": [
    "z = sns.boxplot(data=train,x='churn',y='tenure')\n"
   ]
  },
  {
   "cell_type": "markdown",
   "metadata": {},
   "source": [
    "There is a **negative** correlation to tenure, meaning customers that have been with the company longer are likely to remain.\n",
    "---\n",
    "___"
   ]
  },
  {
   "cell_type": "markdown",
   "metadata": {},
   "source": [
    "## 3. If monthly payments are too high the customer will likely churn, due to seeing the service as too expensive."
   ]
  },
  {
   "cell_type": "markdown",
   "metadata": {},
   "source": [
    "**Set null Hypothesis to examine these two features**\n",
    "___\n",
    "\n",
    "Null $H_0$: There is **no** association between *churn* & *monthly_charges*\\\n",
    "Null $H_a$: There *is* an association between *churn* & *monthly_charges*"
   ]
  },
  {
   "cell_type": "code",
   "execution_count": 15,
   "metadata": {},
   "outputs": [
    {
     "name": "stdout",
     "output_type": "stream",
     "text": [
      "We can reject the null hypothesis with a p-score of: {1.481195740841378e-40}\n"
     ]
    }
   ],
   "source": [
    "train.groupby('churn')['monthly_charges'].mean()\n",
    "\n",
    "monthly_churned = train[train.churn == 'Yes']['monthly_charges']\n",
    "monthly_nochurn = train[train.churn == 'No']['monthly_charges']\n",
    "\n",
    "# Set alpha\n",
    "α = .05\n",
    "# Assuming equal variance\n",
    "t_stat, p = stats.ttest_ind(monthly_churned,monthly_nochurn,equal_var=True)\n",
    "p\n",
    "\n",
    "m.check_p(p)"
   ]
  },
  {
   "cell_type": "code",
   "execution_count": 42,
   "metadata": {},
   "outputs": [
    {
     "data": {
      "image/png": "[encoded data removed]",
      "text/plain": [
       "<Figure size 640x480 with 1 Axes>"
      ]
     },
     "metadata": {},
     "output_type": "display_data"
    }
   ],
   "source": [
    "z = sns.boxplot(data=train,x='churn',y='monthly_charges')"
   ]
  },
  {
   "cell_type": "markdown",
   "metadata": {},
   "source": [
    "The **IQR** (interquartile range) of customers that have churned is noticeably higher than those that have not\\\n",
    "Chi Squared ($\\chi^2$) test results show that there is a **negative** association between the two \n",
    "features as well\n",
    "---\n",
    "___"
   ]
  },
  {
   "cell_type": "markdown",
   "metadata": {},
   "source": [
    "## 4. The customer's contract plan may be indicative of how long they intend to be with the provider considering this would lower their window to churn?"
   ]
  },
  {
   "cell_type": "markdown",
   "metadata": {},
   "source": [
    "**Set null Hypothesis to examine these two features**\n",
    "___\n",
    "\n",
    "Null $H_0$: There is **no** association between *churn* & having a *month-to-month contract*\\\n",
    "Null $H_a$: There *is* an association between *churn* & having a *month-to-month contract*"
   ]
  },
  {
   "cell_type": "code",
   "execution_count": 11,
   "metadata": {},
   "outputs": [
    {
     "name": "stdout",
     "output_type": "stream",
     "text": [
      "We can reject the null hypothesis with a p-score of: {7.035284556920665e-158}\n"
     ]
    },
    {
     "data": {
      "text/html": [
       "<div>\n",
       "<style scoped>\n",
       "    .dataframe tbody tr th:only-of-type {\n",
       "        vertical-align: middle;\n",
       "    }\n",
       "\n",
       "    .dataframe tbody tr th {\n",
       "        vertical-align: top;\n",
       "    }\n",
       "\n",
       "    .dataframe thead th {\n",
       "        text-align: right;\n",
       "    }\n",
       "</style>\n",
       "<table border=\"1\" class=\"dataframe\">\n",
       "  <thead>\n",
       "    <tr style=\"text-align: right;\">\n",
       "      <th>contract_type_month_to_month</th>\n",
       "      <th>0</th>\n",
       "      <th>1</th>\n",
       "    </tr>\n",
       "    <tr>\n",
       "      <th>churn_binary</th>\n",
       "      <th></th>\n",
       "      <th></th>\n",
       "    </tr>\n",
       "  </thead>\n",
       "  <tbody>\n",
       "    <tr>\n",
       "      <th>0</th>\n",
       "      <td>1861</td>\n",
       "      <td>1450</td>\n",
       "    </tr>\n",
       "    <tr>\n",
       "      <th>1</th>\n",
       "      <td>135</td>\n",
       "      <td>1061</td>\n",
       "    </tr>\n",
       "  </tbody>\n",
       "</table>\n",
       "</div>"
      ],
      "text/plain": [
       "contract_type_month_to_month     0     1\n",
       "churn_binary                            \n",
       "0                             1861  1450\n",
       "1                              135  1061"
      ]
     },
     "execution_count": 11,
     "metadata": {},
     "output_type": "execute_result"
    }
   ],
   "source": [
    "# conduct statistical analysis of churn x contract_type_month_to_month\n",
    "m.chi2_test(train['churn_binary'],train['contract_type_month_to_month'])"
   ]
  },
  {
   "cell_type": "code",
   "execution_count": 59,
   "metadata": {},
   "outputs": [
    {
     "data": {
      "image/png": "[encoded data removed]",
      "text/plain": [
       "<Figure size 640x480 with 1 Axes>"
      ]
     },
     "metadata": {},
     "output_type": "display_data"
    }
   ],
   "source": [
    "ax = sns.countplot(data=train,x='contract_type',hue='churn',alpha=0.8,linewidth=.4,edgecolor='black')\n",
    "m.without_hue(ax,train.contract_type)"
   ]
  },
  {
   "cell_type": "markdown",
   "metadata": {},
   "source": [
    "There is a **positive** correlation to contract_type_month_to_month, this would be strongly indicative of an association between customer churn and contract type.\n",
    "---\n",
    "___"
   ]
  },
  {
   "cell_type": "markdown",
   "metadata": {},
   "source": [
    "## 5. Customers that are senior citizen may be less likely to churn due to complications with changing plans."
   ]
  },
  {
   "cell_type": "markdown",
   "metadata": {},
   "source": [
    "**Set null Hypothesis to examine these two features**\n",
    "___\n",
    "\n",
    "Null $H_0$: There is **no** association between churn & senior citizens\\\n",
    "Null $H_a$: There *is* an association between churn & senior citizens"
   ]
  },
  {
   "cell_type": "code",
   "execution_count": 16,
   "metadata": {},
   "outputs": [
    {
     "name": "stdout",
     "output_type": "stream",
     "text": [
      "We can reject the null hypothesis with a p-score of: {2.7803174215206096e-25}\n"
     ]
    },
    {
     "data": {
      "text/html": [
       "<div>\n",
       "<style scoped>\n",
       "    .dataframe tbody tr th:only-of-type {\n",
       "        vertical-align: middle;\n",
       "    }\n",
       "\n",
       "    .dataframe tbody tr th {\n",
       "        vertical-align: top;\n",
       "    }\n",
       "\n",
       "    .dataframe thead th {\n",
       "        text-align: right;\n",
       "    }\n",
       "</style>\n",
       "<table border=\"1\" class=\"dataframe\">\n",
       "  <thead>\n",
       "    <tr style=\"text-align: right;\">\n",
       "      <th>senior_citizen</th>\n",
       "      <th>0</th>\n",
       "      <th>1</th>\n",
       "    </tr>\n",
       "    <tr>\n",
       "      <th>churn</th>\n",
       "      <th></th>\n",
       "      <th></th>\n",
       "    </tr>\n",
       "  </thead>\n",
       "  <tbody>\n",
       "    <tr>\n",
       "      <th>No</th>\n",
       "      <td>2888</td>\n",
       "      <td>423</td>\n",
       "    </tr>\n",
       "    <tr>\n",
       "      <th>Yes</th>\n",
       "      <td>888</td>\n",
       "      <td>308</td>\n",
       "    </tr>\n",
       "  </tbody>\n",
       "</table>\n",
       "</div>"
      ],
      "text/plain": [
       "senior_citizen     0    1\n",
       "churn                    \n",
       "No              2888  423\n",
       "Yes              888  308"
      ]
     },
     "execution_count": 16,
     "metadata": {},
     "output_type": "execute_result"
    }
   ],
   "source": [
    "# conduct statistical analysis of churn x senior_citizen\n",
    "m.chi2_test(train['churn'],train['senior_citizen'])"
   ]
  },
  {
   "cell_type": "code",
   "execution_count": 53,
   "metadata": {},
   "outputs": [
    {
     "data": {
      "image/png": "[encoded data removed]",
      "text/plain": [
       "<Figure size 640x480 with 1 Axes>"
      ]
     },
     "metadata": {},
     "output_type": "display_data"
    }
   ],
   "source": [
    "ax = sns.countplot(data=train,x='senior_citizen',hue='churn',alpha=0.8,linewidth=.4,edgecolor='black')\n",
    "m.without_hue(ax,train.contract_type)"
   ]
  },
  {
   "cell_type": "markdown",
   "metadata": {},
   "source": [
    "There is a **positive** correlation to senior_citizen, this would be indicative of an association between customer churn and senior_citizen, although this does not line up with our hypothesis it is still a feature to consider.\n",
    "---\n",
    "___"
   ]
  },
  {
   "cell_type": "markdown",
   "metadata": {},
   "source": [
    "## 6. Customer internet service plan quality could be a factor in whether a customer decides to stay with the company."
   ]
  },
  {
   "cell_type": "markdown",
   "metadata": {},
   "source": [
    "**Set null Hypothesis to examine these two features**\n",
    "___\n",
    "\n",
    "Null $H_0$: There is **no** association between churn & internet_service_type\\\n",
    "Null $H_a$: There *is* an association between churn & internet_service_type"
   ]
  },
  {
   "cell_type": "code",
   "execution_count": 57,
   "metadata": {},
   "outputs": [
    {
     "data": {
      "image/png": "[encoded data removed]",
      "text/plain": [
       "<Figure size 640x480 with 1 Axes>"
      ]
     },
     "metadata": {},
     "output_type": "display_data"
    }
   ],
   "source": [
    "ax = sns.countplot(data=train,x='internet_service_type',hue='churn',alpha=0.8,linewidth=.4,edgecolor='black')\n",
    "m.without_hue(ax,train.contract_type)"
   ]
  },
  {
   "cell_type": "markdown",
   "metadata": {},
   "source": [
    "There is a **positive** correlation to internet_service_type, specifically *fiber optic plans*.\n",
    "---\n",
    "___"
   ]
  },
  {
   "cell_type": "markdown",
   "metadata": {},
   "source": [
    "## ⛏️ Feature Selection\n",
    "- monthly_charges\n",
    "- tenure\n",
    "- contract_type_month_to_month\n",
    "- internet_service_type_fiber_optic\n",
    "- senior_citizen\n",
    "___"
   ]
  },
  {
   "cell_type": "markdown",
   "metadata": {},
   "source": [
    "# 🎼 Modeling\n",
    "Evaluation Metric: **Accuracy**\\\n",
    "Baseline Prediction: **73.5%**\\\n",
    "\\\n",
    "A *baseline prediction* is essentially the closest metric we have to predicting whether a customer will churn, without using a model.\\\n",
    "\\\n",
    "The models that will be used today are (*SKLearn Flavor*):\n",
    "- **Logistic Regression**\n",
    "- **Decision Tree**\n",
    "- **K Nearest Neighbor**"
   ]
  },
  {
   "cell_type": "code",
   "execution_count": 60,
   "metadata": {},
   "outputs": [],
   "source": [
    "# Defining feature variables for models\n",
    "x_train = train[['monthly_charges','tenure','contract_type_month_to_month','internet_service_type_fiber_optic','senior_citizen']]\n",
    "y_train = train['churn_binary']\n",
    "y_train = y_train.values.ravel()\n",
    "\n",
    "x_val = validate[['monthly_charges','tenure','contract_type_month_to_month','internet_service_type_fiber_optic','senior_citizen']]\n",
    "y_val = validate['churn_binary']\n",
    "y_val = y_val.values.ravel()\n",
    "\n",
    "x_test = test[['monthly_charges','tenure','contract_type_month_to_month','internet_service_type_fiber_optic','senior_citizen']]\n",
    "y_test = test['churn_binary']\n",
    "y_test = y_test.values.ravel()"
   ]
  },
  {
   "cell_type": "markdown",
   "metadata": {},
   "source": [
    "## 🪵 Logistic Regression"
   ]
  },
  {
   "cell_type": "code",
   "execution_count": 64,
   "metadata": {},
   "outputs": [
    {
     "name": "stdout",
     "output_type": "stream",
     "text": [
      "Best fit \"C\" parameter (Determined by GridSearchCV): 0.2\n",
      "Accuracy: 0.7934324384291103\n",
      "\n",
      "True Positive Rate/Sensitivity/Recall/Power: 0.49414715719063546\n",
      "False Positive Rate/False Alarm Ratio/Fall-out: 0.0984596798550287\n",
      "True Negative Rate/Specificity/Selectivity: 0.9015403201449713\n",
      "False Negative Rate/Miss Rate: 0.5058528428093646\n",
      "\n",
      "Precision/PPV: 0.6444929116684842\n",
      "F1 Score: 0.5593942262186465\n",
      "\n",
      "Support (0): 1196\n",
      "Support (1): 3311\n"
     ]
    }
   ],
   "source": [
    "# 🪵 Logistic Regression with Optimized results ()\n",
    "m.log_regression_compiled(x_train,y_train,x_test,y_test)"
   ]
  },
  {
   "cell_type": "markdown",
   "metadata": {},
   "source": [
    "## 🌴 Decision Tree"
   ]
  },
  {
   "cell_type": "code",
   "execution_count": 66,
   "metadata": {},
   "outputs": [
    {
     "name": "stdout",
     "output_type": "stream",
     "text": [
      "Accuracy: 0.791213667628134\n",
      "\n",
      "True Positive Rate/Sensitivity/Recall/Power: 0.40217391304347827\n",
      "False Positive Rate/False Alarm Ratio/Fall-out: 0.06825732407127756\n",
      "True Negative Rate/Specificity/Selectivity: 0.9317426759287224\n",
      "False Negative Rate/Miss Rate: 0.5978260869565217\n",
      "\n",
      "Precision/PPV: 0.6803394625176803\n",
      "F1 Score: 0.5055176037834996\n",
      "\n",
      "Support (0): 1196\n",
      "Support (1): 3311\n",
      "\n",
      "\n",
      "Accuracy: 0.7877927608232789\n",
      "\n",
      "True Positive Rate/Sensitivity/Recall/Power: 0.29411764705882354\n",
      "False Positive Rate/False Alarm Ratio/Fall-out: 0.033816425120772944\n",
      "True Negative Rate/Specificity/Selectivity: 0.966183574879227\n",
      "False Negative Rate/Miss Rate: 0.7058823529411765\n",
      "\n",
      "Precision/PPV: 0.7586206896551724\n",
      "F1 Score: 0.4238921001926782\n",
      "\n",
      "Support (0): 374\n",
      "Support (1): 1035\n"
     ]
    }
   ],
   "source": [
    "# 🌴 Decision Tree - if plot=True will return a plotted decision tree\n",
    "m.decision_tree_compiled(x_train,y_train,train,plot=False)\n",
    "print('\\n')\n",
    "m.decision_tree_compiled(x_test,y_test,test,plot=False)"
   ]
  },
  {
   "cell_type": "markdown",
   "metadata": {},
   "source": [
    "## 🐴 K Nearest Neighbors"
   ]
  },
  {
   "cell_type": "code",
   "execution_count": 67,
   "metadata": {},
   "outputs": [
    {
     "name": "stdout",
     "output_type": "stream",
     "text": [
      "Best fit \"n_neighbors\" parameter (Determined by GridSearchCV): 28 \n",
      "--------------------------------------\n",
      "Train Class Report & Metrics:      \n",
      "---------------------------------------\n",
      "              precision    recall  f1-score   support\n",
      "\n",
      "           0       0.99      0.99      0.99      3311\n",
      "           1       0.97      0.98      0.97      1196\n",
      "\n",
      "    accuracy                           0.99      4507\n",
      "   macro avg       0.98      0.98      0.98      4507\n",
      "weighted avg       0.99      0.99      0.99      4507\n",
      "\n",
      "Accuracy: 0.985799866873752\n",
      "\n",
      "True Positive Rate/Sensitivity/Recall/Power: 0.9765886287625418\n",
      "False Positive Rate/False Alarm Ratio/Fall-out: 0.010872848082150407\n",
      "True Negative Rate/Specificity/Selectivity: 0.9891271519178496\n",
      "False Negative Rate/Miss Rate: 0.023411371237458192\n",
      "\n",
      "Precision/PPV: 0.9700996677740864\n",
      "F1 Score: 0.9733333333333334\n",
      "\n",
      "Support (0): 1196\n",
      "Support (1): 3311\n",
      "None \n",
      "\n",
      "Test Classificiation Report & Metrics:      \n",
      "--------------------------------------\n",
      "              precision    recall  f1-score   support\n",
      "\n",
      "           0       0.81      0.81      0.81      1035\n",
      "           1       0.47      0.47      0.47       374\n",
      "\n",
      "    accuracy                           0.72      1409\n",
      "   macro avg       0.64      0.64      0.64      1409\n",
      "weighted avg       0.72      0.72      0.72      1409\n",
      "\n",
      "Accuracy: 0.716820440028389\n",
      "\n",
      "True Positive Rate/Sensitivity/Recall/Power: 0.4679144385026738\n",
      "False Positive Rate/False Alarm Ratio/Fall-out: 0.1932367149758454\n",
      "True Negative Rate/Specificity/Selectivity: 0.8067632850241546\n",
      "False Negative Rate/Miss Rate: 0.5320855614973262\n",
      "\n",
      "Precision/PPV: 0.4666666666666667\n",
      "F1 Score: 0.4672897196261682\n",
      "\n",
      "Support (0): 374\n",
      "Support (1): 1035\n",
      "None\n"
     ]
    }
   ],
   "source": [
    "# 🐴 K Nearest Neighbor with optimized results - GridSearchCV did not like\n",
    "m.knn_compiled(x_train,y_train,x_test,y_test)"
   ]
  },
  {
   "cell_type": "code",
   "execution_count": 68,
   "metadata": {},
   "outputs": [],
   "source": [
    "# 🐴 KNN with n_neighbors set to 7 for a more balanced accuracy\n",
    "\n",
    "knn1 = KNeighborsClassifier(n_neighbors=7, weights='uniform')\n",
    "knn1.fit(x_train,y_train)\n",
    "\n",
    "model3_prediction = knn1.predict(x_train)\n",
    "model3_probability = knn1.predict_proba(x_train)\n",
    "\n",
    "model3_prediction_val = knn1.predict(x_val)\n",
    "model3_probability_val = knn1.predict_proba(x_val)\n",
    "\n",
    "model3_prediction_test = knn1.predict(x_test)\n",
    "model3_probability_test = knn1.predict_proba(x_test)"
   ]
  },
  {
   "cell_type": "code",
   "execution_count": 70,
   "metadata": {},
   "outputs": [
    {
     "data": {
      "text/html": [
       "<div>\n",
       "<style scoped>\n",
       "    .dataframe tbody tr th:only-of-type {\n",
       "        vertical-align: middle;\n",
       "    }\n",
       "\n",
       "    .dataframe tbody tr th {\n",
       "        vertical-align: top;\n",
       "    }\n",
       "\n",
       "    .dataframe thead th {\n",
       "        text-align: right;\n",
       "    }\n",
       "</style>\n",
       "<table border=\"1\" class=\"dataframe\">\n",
       "  <thead>\n",
       "    <tr style=\"text-align: right;\">\n",
       "      <th></th>\n",
       "      <th>precision</th>\n",
       "      <th>recall</th>\n",
       "      <th>f1-score</th>\n",
       "      <th>support</th>\n",
       "    </tr>\n",
       "  </thead>\n",
       "  <tbody>\n",
       "    <tr>\n",
       "      <th>0</th>\n",
       "      <td>0.825655</td>\n",
       "      <td>0.883092</td>\n",
       "      <td>0.853408</td>\n",
       "      <td>1035.000000</td>\n",
       "    </tr>\n",
       "    <tr>\n",
       "      <th>accuracy</th>\n",
       "      <td>0.777147</td>\n",
       "      <td>0.777147</td>\n",
       "      <td>0.777147</td>\n",
       "      <td>0.777147</td>\n",
       "    </tr>\n",
       "    <tr>\n",
       "      <th>weighted avg</th>\n",
       "      <td>0.765582</td>\n",
       "      <td>0.777147</td>\n",
       "      <td>0.769024</td>\n",
       "      <td>1409.000000</td>\n",
       "    </tr>\n",
       "    <tr>\n",
       "      <th>macro avg</th>\n",
       "      <td>0.712496</td>\n",
       "      <td>0.683525</td>\n",
       "      <td>0.694455</td>\n",
       "      <td>1409.000000</td>\n",
       "    </tr>\n",
       "    <tr>\n",
       "      <th>1</th>\n",
       "      <td>0.599338</td>\n",
       "      <td>0.483957</td>\n",
       "      <td>0.535503</td>\n",
       "      <td>374.000000</td>\n",
       "    </tr>\n",
       "  </tbody>\n",
       "</table>\n",
       "</div>"
      ],
      "text/plain": [
       "              precision    recall  f1-score      support\n",
       "0              0.825655  0.883092  0.853408  1035.000000\n",
       "accuracy       0.777147  0.777147  0.777147     0.777147\n",
       "weighted avg   0.765582  0.777147  0.769024  1409.000000\n",
       "macro avg      0.712496  0.683525  0.694455  1409.000000\n",
       "1              0.599338  0.483957  0.535503   374.000000"
      ]
     },
     "execution_count": 70,
     "metadata": {},
     "output_type": "execute_result"
    }
   ],
   "source": [
    "m.get_classification_report(y_test,model3_prediction_test)"
   ]
  },
  {
   "cell_type": "markdown",
   "metadata": {},
   "source": [
    "## 🏆 Best Model - Modeling Summary"
   ]
  },
  {
   "cell_type": "markdown",
   "metadata": {},
   "source": [
    "***Logistic regression*** had the best accuracy on <u>test set</u>  with: **79.34%**\n",
    "\n",
    "**Decision Tree**\\\n",
    "Although performed just marginally worst; Decision Tree train set was on par but barely fell behind on test.\\\n",
    "\\\n",
    "**K Nearest Neighbor**\\\n",
    "GridSearchCV (an SKLearn optimization searching tool) heavily favored the train set and heavily overfit with an accuracy of **99%**,\\\n",
    "Heavily underperformed in the test set with **72%**.\\\n",
    "\\\n",
    "This was tested again with a *n_neighbors = 7* to balance but still underperformed with **77%** just barely beating baseline.\n"
   ]
  },
  {
   "cell_type": "markdown",
   "metadata": {},
   "source": [
    "# 🥡 Conclusion / Takeaways\n",
    "\n",
    "## Exploration (finish tomorrow)\n",
    "- Customers churned at a rate of 73.5%\n",
    "\n",
    "-\n",
    "\n",
    "## Modeling\n",
    "- Models just merely outperformed baseline, this could be due to lack of data or significant features\n",
    "- A majority of features were no factor\n",
    "\n",
    "## Recommendations\n",
    "- Explore the demographics and customer details that are significant to churn and offer deals to those customers\n",
    "\n",
    "## Next Steps"
   ]
  },
  {
   "cell_type": "code",
   "execution_count": null,
   "metadata": {},
   "outputs": [],
   "source": []
  }
 ],
 "metadata": {
  "kernelspec": {
   "display_name": "codeup",
   "language": "python",
   "name": "python3"
  },
  "language_info": {
   "codemirror_mode": {
    "name": "ipython",
    "version": 3
   },
   "file_extension": ".py",
   "mimetype": "text/x-python",
   "name": "python",
   "nbconvert_exporter": "python",
   "pygments_lexer": "ipython3",
   "version": "3.11.4"
  },
  "orig_nbformat": 4
 },
 "nbformat": 4,
 "nbformat_minor": 2
}
