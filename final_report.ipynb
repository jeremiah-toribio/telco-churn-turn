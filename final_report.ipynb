{
 "cells": [
  {
   "cell_type": "markdown",
   "metadata": {},
   "source": [
    "# ☎️ Telco Churn Predictions"
   ]
  },
  {
   "cell_type": "markdown",
   "metadata": {},
   "source": [
    "## ✔️ Goals:\n",
    "- Explore associations to churn and other customer data\n",
    "- Predict probably a customer will churn (unsubscribe) from Telco utilizing machine learning models\n",
    "- "
   ]
  },
  {
   "cell_type": "markdown",
   "metadata": {},
   "source": [
    "## 📦 Imports"
   ]
  },
  {
   "cell_type": "code",
   "execution_count": 1,
   "metadata": {},
   "outputs": [],
   "source": [
    "# Modularization\n",
    "import env\n",
    "import os\n",
    "import acquire\n",
    "import prepare\n",
    "import mods as m\n",
    "# Ignore Warning - For Presentation\n",
    "import warnings\n",
    "# Array and Dataframes\n",
    "import numpy as np\n",
    "import pandas as pd\n",
    "# Evaluation: Visualization\n",
    "import seaborn as sns\n",
    "import matplotlib.pyplot as plt\n",
    "plt.style.use('fivethirtyeight')\n",
    "# Evaluation: Statistical Analysis\n",
    "from scipy import stats\n",
    "# Logistic Regression\n",
    "from sklearn.linear_model import LogisticRegression as lr\n",
    "# Decision Tree\n",
    "from sklearn.tree import DecisionTreeClassifier as dt, plot_tree, export_text\n",
    "# K Nearest Neighbor\n",
    "from sklearn.neighbors import KNeighborsClassifier\n",
    "# Metrics\n",
    "from sklearn.metrics import accuracy_score, precision_score, recall_score,\\\n",
    "classification_report, confusion_matrix, ConfusionMatrixDisplay"
   ]
  },
  {
   "cell_type": "markdown",
   "metadata": {},
   "source": [
    "## 🎣 Acquire\n",
    "\n",
    "- Data had 37 columns, 7043 rows before preparation\n",
    "- Columns are representative of data relative to demographics, services subscribed and payment/contract information\n",
    "- Rows are representative of customers and their respective data \n",
    " "
   ]
  },
  {
   "cell_type": "markdown",
   "metadata": {},
   "source": [
    "## 🍱 Prepare\n",
    "- Analyzed for null or duplicate data\n",
    "- Encoded multicategorical type data with dummy columns\n",
    "- Encoded binary categorical type data\n",
    "- Dropped all useless dummy columns\n",
    "- Normalized numerical data by dropping extra symbols and spaces, changed type to numeric type\n",
    "- Snake case columns\n",
    "- Split data for training, validate and test (repectively; ~60,~20,~20), stratified on 'churn'\n",
    "- Assume no other changes"
   ]
  },
  {
   "cell_type": "markdown",
   "metadata": {},
   "source": [
    "## 📒 Data Dictionary\n",
    "--- \n",
    "| Feature        | Definition                                   |\n",
    "| ---            | ---                                          |\n",
    "| customer_id    | string; randomized 4 digit - 5 character identification code |\n",
    "| gender         | string; male/female, determines account owner gender |\n",
    "| senior_citizen | string; binary encoded, determines if account owner is a senior citizen |\n",
    "| partner        | string; yes/no, determines if account owner has a partner |\n",
    "| dependents     | string; yes/no, determines if account owner has any dependents |\n",
    "| tenure         | integer; the number of years the customer has been with the company |\n",
    "| phone_service  | string; yes/no/No phone service, multicategorical data to determine if the customer uses phone service |\n",
    "| internet_service_type | str; DSL/Fiber optic/No internet service, multicategorical data to determine what internet service type is used by the customer |\n",
    "| internet_service_type_id | int; 1/2/3, determines what type of internet service plan identifier the customer has |\n",
    "| online_security| string; yes/no/No internet service, determines if the customer pays for the online security feature |\n",
    "| online_backup  | string; yes/no determine if the customer has this feature |\n",
    "| streaming_tv   | string; yes/no determine if the customer has this feature |\n",
    "| streaming_movies | string; yes/no determine if the customer this feature |\n",
    "| paperless_billing | string; yes/no determine if the customer has this feature|\n",
    "| payment_type_id | integer; 1/2/3/4, determines what identifier for form of payment the customer utilizes |\n",
    "| monthly_charges | integer; the amount the customer pays monthly |\n",
    "| total_charges | integer; a total accumilation of what the customer has paid since beginning their service plan |\n",
    "| churn | str; yes/no, determines whether or not a customer has churned, this is our target |\n",
    "| payment_type | str; Mailed check/Electronic check/Credit card(automatic)/Credit card(manual), multicategorical data to determine the customer payment type in detail |\n",
    "| contract_type | str; One year/Month-to-month/Two year, the type of contract type signed by the customer to determine length of service |\n",
    "| Encoded dummy columns of respective categorical types above | N/A |"
   ]
  },
  {
   "cell_type": "code",
   "execution_count": 2,
   "metadata": {},
   "outputs": [
    {
     "name": "stdout",
     "output_type": "stream",
     "text": [
      "Dataframe: (7043, 46) 100%\n",
      "\n",
      "Train: (4507, 46) | ~60%\n",
      "Validate: (1127, 46) | ~20%\n",
      "Test: (1409, 46) | ~20%\n"
     ]
    }
   ],
   "source": [
    "# combination of acquire & prepare in one function\n",
    "telco = prepare.prep_telco()\n",
    "# seperate data for training, validation and testing\n",
    "train, validate, test = prepare.splitter(telco,target='churn')"
   ]
  },
  {
   "cell_type": "markdown",
   "metadata": {},
   "source": [
    "## 🎞️ Data Preview"
   ]
  },
  {
   "cell_type": "code",
   "execution_count": 3,
   "metadata": {},
   "outputs": [],
   "source": [
    "# view all columns with associated values to observe\n",
    "pd.set_option('display.max_columns', None)"
   ]
  },
  {
   "cell_type": "code",
   "execution_count": 4,
   "metadata": {},
   "outputs": [
    {
     "data": {
      "text/html": [
       "<div>\n",
       "<style scoped>\n",
       "    .dataframe tbody tr th:only-of-type {\n",
       "        vertical-align: middle;\n",
       "    }\n",
       "\n",
       "    .dataframe tbody tr th {\n",
       "        vertical-align: top;\n",
       "    }\n",
       "\n",
       "    .dataframe thead th {\n",
       "        text-align: right;\n",
       "    }\n",
       "</style>\n",
       "<table border=\"1\" class=\"dataframe\">\n",
       "  <thead>\n",
       "    <tr style=\"text-align: right;\">\n",
       "      <th></th>\n",
       "      <th>customer_id</th>\n",
       "      <th>gender</th>\n",
       "      <th>senior_citizen</th>\n",
       "      <th>partner</th>\n",
       "      <th>dependents</th>\n",
       "      <th>tenure</th>\n",
       "      <th>phone_service</th>\n",
       "      <th>multiple_lines</th>\n",
       "      <th>internet_service_type_id</th>\n",
       "      <th>online_security</th>\n",
       "      <th>online_backup</th>\n",
       "      <th>device_protection</th>\n",
       "      <th>tech_support</th>\n",
       "      <th>streaming_tv</th>\n",
       "      <th>streaming_movies</th>\n",
       "      <th>contract_type_id</th>\n",
       "      <th>paperless_billing</th>\n",
       "      <th>payment_type_id</th>\n",
       "      <th>monthly_charges</th>\n",
       "      <th>total_charges</th>\n",
       "      <th>churn</th>\n",
       "      <th>internet_service_type</th>\n",
       "      <th>payment_type</th>\n",
       "      <th>contract_type</th>\n",
       "      <th>partner_binary</th>\n",
       "      <th>dependents_binary</th>\n",
       "      <th>phone_service_binary</th>\n",
       "      <th>gender_binary</th>\n",
       "      <th>paperless_billing_binary</th>\n",
       "      <th>churn_binary</th>\n",
       "      <th>multiple_lines_no_phone_service</th>\n",
       "      <th>multiple_lines_yes</th>\n",
       "      <th>online_security_yes</th>\n",
       "      <th>online_backup_yes</th>\n",
       "      <th>payment_type_credit_card_(automatic)</th>\n",
       "      <th>payment_type_electronic_check</th>\n",
       "      <th>payment_type_mailed_check</th>\n",
       "      <th>contract_type_one_year</th>\n",
       "      <th>contract_type_two_year</th>\n",
       "      <th>tech_support_yes</th>\n",
       "      <th>streaming_tv_yes</th>\n",
       "      <th>streaming_movies_yes</th>\n",
       "      <th>device_protection_yes</th>\n",
       "      <th>internet_service_type_fiber_optic</th>\n",
       "      <th>internet_service_type_none</th>\n",
       "      <th>contract_type_month_to_month</th>\n",
       "    </tr>\n",
       "  </thead>\n",
       "  <tbody>\n",
       "    <tr>\n",
       "      <th>6458</th>\n",
       "      <td>8258-GSTJK</td>\n",
       "      <td>Male</td>\n",
       "      <td>1</td>\n",
       "      <td>No</td>\n",
       "      <td>No</td>\n",
       "      <td>3</td>\n",
       "      <td>Yes</td>\n",
       "      <td>Yes</td>\n",
       "      <td>2</td>\n",
       "      <td>No</td>\n",
       "      <td>No</td>\n",
       "      <td>No</td>\n",
       "      <td>No</td>\n",
       "      <td>No</td>\n",
       "      <td>No</td>\n",
       "      <td>1</td>\n",
       "      <td>Yes</td>\n",
       "      <td>1</td>\n",
       "      <td>77.00</td>\n",
       "      <td>237.75</td>\n",
       "      <td>Yes</td>\n",
       "      <td>Fiber optic</td>\n",
       "      <td>Electronic check</td>\n",
       "      <td>Month-to-month</td>\n",
       "      <td>0</td>\n",
       "      <td>0</td>\n",
       "      <td>1</td>\n",
       "      <td>1</td>\n",
       "      <td>1</td>\n",
       "      <td>1</td>\n",
       "      <td>0</td>\n",
       "      <td>1</td>\n",
       "      <td>0</td>\n",
       "      <td>0</td>\n",
       "      <td>0</td>\n",
       "      <td>1</td>\n",
       "      <td>0</td>\n",
       "      <td>0</td>\n",
       "      <td>0</td>\n",
       "      <td>0</td>\n",
       "      <td>0</td>\n",
       "      <td>0</td>\n",
       "      <td>0</td>\n",
       "      <td>1</td>\n",
       "      <td>0</td>\n",
       "      <td>1</td>\n",
       "    </tr>\n",
       "    <tr>\n",
       "      <th>5776</th>\n",
       "      <td>6259-WJQLC</td>\n",
       "      <td>Male</td>\n",
       "      <td>1</td>\n",
       "      <td>No</td>\n",
       "      <td>No</td>\n",
       "      <td>32</td>\n",
       "      <td>Yes</td>\n",
       "      <td>Yes</td>\n",
       "      <td>2</td>\n",
       "      <td>No</td>\n",
       "      <td>No</td>\n",
       "      <td>Yes</td>\n",
       "      <td>No</td>\n",
       "      <td>No</td>\n",
       "      <td>No</td>\n",
       "      <td>1</td>\n",
       "      <td>Yes</td>\n",
       "      <td>4</td>\n",
       "      <td>81.10</td>\n",
       "      <td>2619.25</td>\n",
       "      <td>No</td>\n",
       "      <td>Fiber optic</td>\n",
       "      <td>Credit card (automatic)</td>\n",
       "      <td>Month-to-month</td>\n",
       "      <td>0</td>\n",
       "      <td>0</td>\n",
       "      <td>1</td>\n",
       "      <td>1</td>\n",
       "      <td>1</td>\n",
       "      <td>0</td>\n",
       "      <td>0</td>\n",
       "      <td>1</td>\n",
       "      <td>0</td>\n",
       "      <td>0</td>\n",
       "      <td>1</td>\n",
       "      <td>0</td>\n",
       "      <td>0</td>\n",
       "      <td>0</td>\n",
       "      <td>0</td>\n",
       "      <td>0</td>\n",
       "      <td>0</td>\n",
       "      <td>0</td>\n",
       "      <td>1</td>\n",
       "      <td>1</td>\n",
       "      <td>0</td>\n",
       "      <td>1</td>\n",
       "    </tr>\n",
       "    <tr>\n",
       "      <th>4919</th>\n",
       "      <td>3878-AVSOQ</td>\n",
       "      <td>Female</td>\n",
       "      <td>1</td>\n",
       "      <td>No</td>\n",
       "      <td>No</td>\n",
       "      <td>1</td>\n",
       "      <td>Yes</td>\n",
       "      <td>No</td>\n",
       "      <td>2</td>\n",
       "      <td>No</td>\n",
       "      <td>No</td>\n",
       "      <td>No</td>\n",
       "      <td>No</td>\n",
       "      <td>No</td>\n",
       "      <td>No</td>\n",
       "      <td>1</td>\n",
       "      <td>Yes</td>\n",
       "      <td>1</td>\n",
       "      <td>71.25</td>\n",
       "      <td>71.25</td>\n",
       "      <td>No</td>\n",
       "      <td>Fiber optic</td>\n",
       "      <td>Electronic check</td>\n",
       "      <td>Month-to-month</td>\n",
       "      <td>0</td>\n",
       "      <td>0</td>\n",
       "      <td>1</td>\n",
       "      <td>0</td>\n",
       "      <td>1</td>\n",
       "      <td>0</td>\n",
       "      <td>0</td>\n",
       "      <td>0</td>\n",
       "      <td>0</td>\n",
       "      <td>0</td>\n",
       "      <td>0</td>\n",
       "      <td>1</td>\n",
       "      <td>0</td>\n",
       "      <td>0</td>\n",
       "      <td>0</td>\n",
       "      <td>0</td>\n",
       "      <td>0</td>\n",
       "      <td>0</td>\n",
       "      <td>0</td>\n",
       "      <td>1</td>\n",
       "      <td>0</td>\n",
       "      <td>1</td>\n",
       "    </tr>\n",
       "    <tr>\n",
       "      <th>6682</th>\n",
       "      <td>8909-BOLNL</td>\n",
       "      <td>Male</td>\n",
       "      <td>0</td>\n",
       "      <td>No</td>\n",
       "      <td>No</td>\n",
       "      <td>3</td>\n",
       "      <td>Yes</td>\n",
       "      <td>No</td>\n",
       "      <td>3</td>\n",
       "      <td>No internet service</td>\n",
       "      <td>No internet service</td>\n",
       "      <td>No internet service</td>\n",
       "      <td>No internet service</td>\n",
       "      <td>No internet service</td>\n",
       "      <td>No internet service</td>\n",
       "      <td>2</td>\n",
       "      <td>No</td>\n",
       "      <td>2</td>\n",
       "      <td>21.20</td>\n",
       "      <td>52.05</td>\n",
       "      <td>No</td>\n",
       "      <td>None</td>\n",
       "      <td>Mailed check</td>\n",
       "      <td>One year</td>\n",
       "      <td>0</td>\n",
       "      <td>0</td>\n",
       "      <td>1</td>\n",
       "      <td>1</td>\n",
       "      <td>0</td>\n",
       "      <td>0</td>\n",
       "      <td>0</td>\n",
       "      <td>0</td>\n",
       "      <td>0</td>\n",
       "      <td>0</td>\n",
       "      <td>0</td>\n",
       "      <td>0</td>\n",
       "      <td>1</td>\n",
       "      <td>1</td>\n",
       "      <td>0</td>\n",
       "      <td>0</td>\n",
       "      <td>0</td>\n",
       "      <td>0</td>\n",
       "      <td>0</td>\n",
       "      <td>0</td>\n",
       "      <td>1</td>\n",
       "      <td>0</td>\n",
       "    </tr>\n",
       "    <tr>\n",
       "      <th>5911</th>\n",
       "      <td>6674-KVJHG</td>\n",
       "      <td>Female</td>\n",
       "      <td>0</td>\n",
       "      <td>No</td>\n",
       "      <td>No</td>\n",
       "      <td>11</td>\n",
       "      <td>Yes</td>\n",
       "      <td>Yes</td>\n",
       "      <td>3</td>\n",
       "      <td>No internet service</td>\n",
       "      <td>No internet service</td>\n",
       "      <td>No internet service</td>\n",
       "      <td>No internet service</td>\n",
       "      <td>No internet service</td>\n",
       "      <td>No internet service</td>\n",
       "      <td>2</td>\n",
       "      <td>No</td>\n",
       "      <td>1</td>\n",
       "      <td>25.20</td>\n",
       "      <td>245.15</td>\n",
       "      <td>No</td>\n",
       "      <td>None</td>\n",
       "      <td>Electronic check</td>\n",
       "      <td>One year</td>\n",
       "      <td>0</td>\n",
       "      <td>0</td>\n",
       "      <td>1</td>\n",
       "      <td>0</td>\n",
       "      <td>0</td>\n",
       "      <td>0</td>\n",
       "      <td>0</td>\n",
       "      <td>1</td>\n",
       "      <td>0</td>\n",
       "      <td>0</td>\n",
       "      <td>0</td>\n",
       "      <td>1</td>\n",
       "      <td>0</td>\n",
       "      <td>1</td>\n",
       "      <td>0</td>\n",
       "      <td>0</td>\n",
       "      <td>0</td>\n",
       "      <td>0</td>\n",
       "      <td>0</td>\n",
       "      <td>0</td>\n",
       "      <td>1</td>\n",
       "      <td>0</td>\n",
       "    </tr>\n",
       "  </tbody>\n",
       "</table>\n",
       "</div>"
      ],
      "text/plain": [
       "     customer_id  gender  senior_citizen partner dependents  tenure  \\\n",
       "6458  8258-GSTJK    Male               1      No         No       3   \n",
       "5776  6259-WJQLC    Male               1      No         No      32   \n",
       "4919  3878-AVSOQ  Female               1      No         No       1   \n",
       "6682  8909-BOLNL    Male               0      No         No       3   \n",
       "5911  6674-KVJHG  Female               0      No         No      11   \n",
       "\n",
       "     phone_service multiple_lines  internet_service_type_id  \\\n",
       "6458           Yes            Yes                         2   \n",
       "5776           Yes            Yes                         2   \n",
       "4919           Yes             No                         2   \n",
       "6682           Yes             No                         3   \n",
       "5911           Yes            Yes                         3   \n",
       "\n",
       "          online_security        online_backup    device_protection  \\\n",
       "6458                   No                   No                   No   \n",
       "5776                   No                   No                  Yes   \n",
       "4919                   No                   No                   No   \n",
       "6682  No internet service  No internet service  No internet service   \n",
       "5911  No internet service  No internet service  No internet service   \n",
       "\n",
       "             tech_support         streaming_tv     streaming_movies  \\\n",
       "6458                   No                   No                   No   \n",
       "5776                   No                   No                   No   \n",
       "4919                   No                   No                   No   \n",
       "6682  No internet service  No internet service  No internet service   \n",
       "5911  No internet service  No internet service  No internet service   \n",
       "\n",
       "      contract_type_id paperless_billing  payment_type_id  monthly_charges  \\\n",
       "6458                 1               Yes                1            77.00   \n",
       "5776                 1               Yes                4            81.10   \n",
       "4919                 1               Yes                1            71.25   \n",
       "6682                 2                No                2            21.20   \n",
       "5911                 2                No                1            25.20   \n",
       "\n",
       "      total_charges churn internet_service_type             payment_type  \\\n",
       "6458         237.75   Yes           Fiber optic         Electronic check   \n",
       "5776        2619.25    No           Fiber optic  Credit card (automatic)   \n",
       "4919          71.25    No           Fiber optic         Electronic check   \n",
       "6682          52.05    No                  None             Mailed check   \n",
       "5911         245.15    No                  None         Electronic check   \n",
       "\n",
       "       contract_type  partner_binary  dependents_binary  phone_service_binary  \\\n",
       "6458  Month-to-month               0                  0                     1   \n",
       "5776  Month-to-month               0                  0                     1   \n",
       "4919  Month-to-month               0                  0                     1   \n",
       "6682        One year               0                  0                     1   \n",
       "5911        One year               0                  0                     1   \n",
       "\n",
       "      gender_binary  paperless_billing_binary  churn_binary  \\\n",
       "6458              1                         1             1   \n",
       "5776              1                         1             0   \n",
       "4919              0                         1             0   \n",
       "6682              1                         0             0   \n",
       "5911              0                         0             0   \n",
       "\n",
       "      multiple_lines_no_phone_service  multiple_lines_yes  \\\n",
       "6458                                0                   1   \n",
       "5776                                0                   1   \n",
       "4919                                0                   0   \n",
       "6682                                0                   0   \n",
       "5911                                0                   1   \n",
       "\n",
       "      online_security_yes  online_backup_yes  \\\n",
       "6458                    0                  0   \n",
       "5776                    0                  0   \n",
       "4919                    0                  0   \n",
       "6682                    0                  0   \n",
       "5911                    0                  0   \n",
       "\n",
       "      payment_type_credit_card_(automatic)  payment_type_electronic_check  \\\n",
       "6458                                     0                              1   \n",
       "5776                                     1                              0   \n",
       "4919                                     0                              1   \n",
       "6682                                     0                              0   \n",
       "5911                                     0                              1   \n",
       "\n",
       "      payment_type_mailed_check  contract_type_one_year  \\\n",
       "6458                          0                       0   \n",
       "5776                          0                       0   \n",
       "4919                          0                       0   \n",
       "6682                          1                       1   \n",
       "5911                          0                       1   \n",
       "\n",
       "      contract_type_two_year  tech_support_yes  streaming_tv_yes  \\\n",
       "6458                       0                 0                 0   \n",
       "5776                       0                 0                 0   \n",
       "4919                       0                 0                 0   \n",
       "6682                       0                 0                 0   \n",
       "5911                       0                 0                 0   \n",
       "\n",
       "      streaming_movies_yes  device_protection_yes  \\\n",
       "6458                     0                      0   \n",
       "5776                     0                      1   \n",
       "4919                     0                      0   \n",
       "6682                     0                      0   \n",
       "5911                     0                      0   \n",
       "\n",
       "      internet_service_type_fiber_optic  internet_service_type_none  \\\n",
       "6458                                  1                           0   \n",
       "5776                                  1                           0   \n",
       "4919                                  1                           0   \n",
       "6682                                  0                           1   \n",
       "5911                                  0                           1   \n",
       "\n",
       "      contract_type_month_to_month  \n",
       "6458                             1  \n",
       "5776                             1  \n",
       "4919                             1  \n",
       "6682                             0  \n",
       "5911                             0  "
      ]
     },
     "execution_count": 4,
     "metadata": {},
     "output_type": "execute_result"
    }
   ],
   "source": [
    "# random sample of data to examine\n",
    "train.sample(5)"
   ]
  },
  {
   "cell_type": "code",
   "execution_count": 5,
   "metadata": {},
   "outputs": [
    {
     "name": "stdout",
     "output_type": "stream",
     "text": [
      "<class 'pandas.core.frame.DataFrame'>\n",
      "Index: 4507 entries, 3283 to 6331\n",
      "Data columns (total 46 columns):\n",
      " #   Column                                Non-Null Count  Dtype  \n",
      "---  ------                                --------------  -----  \n",
      " 0   customer_id                           4507 non-null   object \n",
      " 1   gender                                4507 non-null   object \n",
      " 2   senior_citizen                        4507 non-null   int64  \n",
      " 3   partner                               4507 non-null   object \n",
      " 4   dependents                            4507 non-null   object \n",
      " 5   tenure                                4507 non-null   int64  \n",
      " 6   phone_service                         4507 non-null   object \n",
      " 7   multiple_lines                        4507 non-null   object \n",
      " 8   internet_service_type_id              4507 non-null   int64  \n",
      " 9   online_security                       4507 non-null   object \n",
      " 10  online_backup                         4507 non-null   object \n",
      " 11  device_protection                     4507 non-null   object \n",
      " 12  tech_support                          4507 non-null   object \n",
      " 13  streaming_tv                          4507 non-null   object \n",
      " 14  streaming_movies                      4507 non-null   object \n",
      " 15  contract_type_id                      4507 non-null   int64  \n",
      " 16  paperless_billing                     4507 non-null   object \n",
      " 17  payment_type_id                       4507 non-null   int64  \n",
      " 18  monthly_charges                       4507 non-null   float64\n",
      " 19  total_charges                         4507 non-null   float64\n",
      " 20  churn                                 4507 non-null   object \n",
      " 21  internet_service_type                 4507 non-null   object \n",
      " 22  payment_type                          4507 non-null   object \n",
      " 23  contract_type                         4507 non-null   object \n",
      " 24  partner_binary                        4507 non-null   int64  \n",
      " 25  dependents_binary                     4507 non-null   int64  \n",
      " 26  phone_service_binary                  4507 non-null   int64  \n",
      " 27  gender_binary                         4507 non-null   int64  \n",
      " 28  paperless_billing_binary              4507 non-null   int64  \n",
      " 29  churn_binary                          4507 non-null   int64  \n",
      " 30  multiple_lines_no_phone_service       4507 non-null   int64  \n",
      " 31  multiple_lines_yes                    4507 non-null   int64  \n",
      " 32  online_security_yes                   4507 non-null   int64  \n",
      " 33  online_backup_yes                     4507 non-null   int64  \n",
      " 34  payment_type_credit_card_(automatic)  4507 non-null   int64  \n",
      " 35  payment_type_electronic_check         4507 non-null   int64  \n",
      " 36  payment_type_mailed_check             4507 non-null   int64  \n",
      " 37  contract_type_one_year                4507 non-null   int64  \n",
      " 38  contract_type_two_year                4507 non-null   int64  \n",
      " 39  tech_support_yes                      4507 non-null   int64  \n",
      " 40  streaming_tv_yes                      4507 non-null   int64  \n",
      " 41  streaming_movies_yes                  4507 non-null   int64  \n",
      " 42  device_protection_yes                 4507 non-null   int64  \n",
      " 43  internet_service_type_fiber_optic     4507 non-null   int64  \n",
      " 44  internet_service_type_none            4507 non-null   int64  \n",
      " 45  contract_type_month_to_month          4507 non-null   int64  \n",
      "dtypes: float64(2), int64(27), object(17)\n",
      "memory usage: 1.6+ MB\n"
     ]
    }
   ],
   "source": [
    "train.info()"
   ]
  },
  {
   "cell_type": "markdown",
   "metadata": {},
   "source": [
    "## 🧭 Explore\n",
    "Before further diving - a distributions review"
   ]
  },
  {
   "cell_type": "markdown",
   "metadata": {},
   "source": [
    "### 🧭 Explore: Feature Engineering"
   ]
  },
  {
   "cell_type": "code",
   "execution_count": 6,
   "metadata": {},
   "outputs": [],
   "source": [
    "# Compiling all additional services into a column that would measure the sum of services subscribed\n",
    "train['additional_services'] = (train[['device_protection','online_security','streaming_movies','streaming_tv','online_backup','tech_support']] == 'Yes').sum(axis=1)\n",
    "validate['additional_services'] = (train[['device_protection','online_security','streaming_movies','streaming_tv','online_backup','tech_support']] == 'Yes').sum(axis=1)\n",
    "test['additional_services'] = (train[['device_protection','online_security','streaming_movies','streaming_tv','online_backup','tech_support']] == 'Yes').sum(axis=1)"
   ]
  },
  {
   "cell_type": "code",
   "execution_count": 7,
   "metadata": {},
   "outputs": [],
   "source": [
    "# Function to loop through desired df and respective columns to visualize\n",
    "cat_cols, num_cols = m.organize_columns(train)\n",
    "# Compiled categorical columns\n",
    "cat_cols = train[cat_cols]"
   ]
  },
  {
   "cell_type": "markdown",
   "metadata": {},
   "source": [
    "### How many customers normally churn?"
   ]
  },
  {
   "cell_type": "code",
   "execution_count": 8,
   "metadata": {},
   "outputs": [
    {
     "data": {
      "image/png": "[encoded data removed]",
      "text/plain": [
       "<Figure size 640x480 with 1 Axes>"
      ]
     },
     "metadata": {},
     "output_type": "display_data"
    }
   ],
   "source": [
    "# Percentage of customers that churn ( also our baseline prediction )\n",
    "ax = sns.countplot(data=train,x='churn',alpha=0.8,linewidth=.4,edgecolor='black')\n",
    "m.without_hue(ax,train['churn'])"
   ]
  },
  {
   "cell_type": "markdown",
   "metadata": {},
   "source": [
    "## The longer the customer has been with the company the less likely they are to churn due to ease of services and maybe a grandfathered payment price?\n"
   ]
  },
  {
   "cell_type": "markdown",
   "metadata": {},
   "source": [
    "**Set null Hypothesis to examine these two features**\n",
    "___\n",
    "\n",
    "Null $H_0$: There is **no** association between *churn* & *tenure*\\\n",
    "Null $H_a$: There *is* an association between *churn* & *tenure*"
   ]
  },
  {
   "cell_type": "code",
   "execution_count": 10,
   "metadata": {},
   "outputs": [
    {
     "name": "stdout",
     "output_type": "stream",
     "text": [
      "We can reject the null hypothesis with a p-score of: {5.213539721523729e-130}\n"
     ]
    }
   ],
   "source": [
    "# Masking & defining our desired values\n",
    "tenure_churned = train[train.churn == 'Yes']['tenure']\n",
    "tenure_nochurn = train[train.churn == 'No']['tenure']\n",
    "\n",
    "# Set alpha\n",
    "α = .05\n",
    "# Assuming equal variance\n",
    "t_stat, p = stats.ttest_ind(tenure_churned,tenure_nochurn,equal_var=True)\n",
    "p\n",
    "\n",
    "m.check_p(p)"
   ]
  },
  {
   "cell_type": "code",
   "execution_count": 41,
   "metadata": {},
   "outputs": [
    {
     "data": {
      "image/png": "[encoded data removed]",
      "text/plain": [
       "<Figure size 640x480 with 1 Axes>"
      ]
     },
     "metadata": {},
     "output_type": "display_data"
    }
   ],
   "source": [
    "z = sns.boxplot(data=train,x='churn',y='tenure')\n"
   ]
  },
  {
   "cell_type": "markdown",
   "metadata": {},
   "source": [
    "There is a **negative** correlation to tenure, meaning customers that have been with the company longer are likely to remain."
   ]
  },
  {
   "cell_type": "markdown",
   "metadata": {},
   "source": [
    "## If monthly payments are too high the customer will likely churn, due to seeing the service as too expensive."
   ]
  },
  {
   "cell_type": "markdown",
   "metadata": {},
   "source": [
    "**Set null Hypothesis to examine these two features**\n",
    "___\n",
    "\n",
    "Null $H_0$: There is **no** association between *churn* & *monthly_charges*\\\n",
    "Null $H_a$: There *is* an association between *churn* & *monthly_charges*"
   ]
  },
  {
   "cell_type": "code",
   "execution_count": 15,
   "metadata": {},
   "outputs": [
    {
     "name": "stdout",
     "output_type": "stream",
     "text": [
      "We can reject the null hypothesis with a p-score of: {1.481195740841378e-40}\n"
     ]
    }
   ],
   "source": [
    "train.groupby('churn')['monthly_charges'].mean()\n",
    "\n",
    "monthly_churned = train[train.churn == 'Yes']['monthly_charges']\n",
    "monthly_nochurn = train[train.churn == 'No']['monthly_charges']\n",
    "\n",
    "# Set alpha\n",
    "α = .05\n",
    "# Assuming equal variance\n",
    "t_stat, p = stats.ttest_ind(monthly_churned,monthly_nochurn,equal_var=True)\n",
    "p\n",
    "\n",
    "m.check_p(p)"
   ]
  },
  {
   "cell_type": "code",
   "execution_count": 42,
   "metadata": {},
   "outputs": [
    {
     "data": {
      "image/png": "[encoded data removed]",
      "text/plain": [
       "<Figure size 640x480 with 1 Axes>"
      ]
     },
     "metadata": {},
     "output_type": "display_data"
    }
   ],
   "source": [
    "z = sns.boxplot(data=train,x='churn',y='monthly_charges')"
   ]
  },
  {
   "cell_type": "markdown",
   "metadata": {},
   "source": [
    "## The customer's contract plan may be indicative of how long they intend to be with the provider considering this would lower their window to churn?"
   ]
  },
  {
   "cell_type": "markdown",
   "metadata": {},
   "source": [
    "**Set null Hypothesis to examine these two features**\n",
    "___\n",
    "\n",
    "Null $H_0$: There is **no** association between *churn* & having a *month-to-month contract*\\\n",
    "Null $H_a$: There *is* an association between *churn* & having a *month-to-month contract*"
   ]
  },
  {
   "cell_type": "code",
   "execution_count": 11,
   "metadata": {},
   "outputs": [
    {
     "name": "stdout",
     "output_type": "stream",
     "text": [
      "We can reject the null hypothesis with a p-score of: {7.035284556920665e-158}\n"
     ]
    },
    {
     "data": {
      "text/html": [
       "<div>\n",
       "<style scoped>\n",
       "    .dataframe tbody tr th:only-of-type {\n",
       "        vertical-align: middle;\n",
       "    }\n",
       "\n",
       "    .dataframe tbody tr th {\n",
       "        vertical-align: top;\n",
       "    }\n",
       "\n",
       "    .dataframe thead th {\n",
       "        text-align: right;\n",
       "    }\n",
       "</style>\n",
       "<table border=\"1\" class=\"dataframe\">\n",
       "  <thead>\n",
       "    <tr style=\"text-align: right;\">\n",
       "      <th>contract_type_month_to_month</th>\n",
       "      <th>0</th>\n",
       "      <th>1</th>\n",
       "    </tr>\n",
       "    <tr>\n",
       "      <th>churn_binary</th>\n",
       "      <th></th>\n",
       "      <th></th>\n",
       "    </tr>\n",
       "  </thead>\n",
       "  <tbody>\n",
       "    <tr>\n",
       "      <th>0</th>\n",
       "      <td>1861</td>\n",
       "      <td>1450</td>\n",
       "    </tr>\n",
       "    <tr>\n",
       "      <th>1</th>\n",
       "      <td>135</td>\n",
       "      <td>1061</td>\n",
       "    </tr>\n",
       "  </tbody>\n",
       "</table>\n",
       "</div>"
      ],
      "text/plain": [
       "contract_type_month_to_month     0     1\n",
       "churn_binary                            \n",
       "0                             1861  1450\n",
       "1                              135  1061"
      ]
     },
     "execution_count": 11,
     "metadata": {},
     "output_type": "execute_result"
    }
   ],
   "source": [
    "# conduct statistical analysis of churn x contract_type_month_to_month\n",
    "m.chi2_test(train['churn_binary'],train['contract_type_month_to_month'])"
   ]
  },
  {
   "cell_type": "markdown",
   "metadata": {},
   "source": [
    "There is a **positive** correlation to contract_type_month_to_month, this would be strongly indicative of an association between customer churn and contract type."
   ]
  },
  {
   "cell_type": "code",
   "execution_count": 47,
   "metadata": {},
   "outputs": [
    {
     "data": {
      "image/png": "[encoded data removed]",
      "text/plain": [
       "<Figure size 640x480 with 1 Axes>"
      ]
     },
     "metadata": {},
     "output_type": "display_data"
    }
   ],
   "source": [
    "ax = sns.countplot(data=train,x='contract_type',hue='churn',alpha=0.8,linewidth=.4,edgecolor='black')\n",
    "m.with_hue(ax,train.contract_type,3,2)"
   ]
  },
  {
   "cell_type": "markdown",
   "metadata": {},
   "source": [
    "## Customers that are senior citizen may be less likely to churn due to complications with changing plans."
   ]
  },
  {
   "cell_type": "markdown",
   "metadata": {},
   "source": [
    "**Set null Hypothesis to examine these two features**\n",
    "___\n",
    "\n",
    "Null $H_0$: There is **no** association between churn & senior citizens\\\n",
    "Null $H_a$: There *is* an association between churn & senior citizens"
   ]
  },
  {
   "cell_type": "code",
   "execution_count": 16,
   "metadata": {},
   "outputs": [
    {
     "name": "stdout",
     "output_type": "stream",
     "text": [
      "We can reject the null hypothesis with a p-score of: {2.7803174215206096e-25}\n"
     ]
    },
    {
     "data": {
      "text/html": [
       "<div>\n",
       "<style scoped>\n",
       "    .dataframe tbody tr th:only-of-type {\n",
       "        vertical-align: middle;\n",
       "    }\n",
       "\n",
       "    .dataframe tbody tr th {\n",
       "        vertical-align: top;\n",
       "    }\n",
       "\n",
       "    .dataframe thead th {\n",
       "        text-align: right;\n",
       "    }\n",
       "</style>\n",
       "<table border=\"1\" class=\"dataframe\">\n",
       "  <thead>\n",
       "    <tr style=\"text-align: right;\">\n",
       "      <th>senior_citizen</th>\n",
       "      <th>0</th>\n",
       "      <th>1</th>\n",
       "    </tr>\n",
       "    <tr>\n",
       "      <th>churn</th>\n",
       "      <th></th>\n",
       "      <th></th>\n",
       "    </tr>\n",
       "  </thead>\n",
       "  <tbody>\n",
       "    <tr>\n",
       "      <th>No</th>\n",
       "      <td>2888</td>\n",
       "      <td>423</td>\n",
       "    </tr>\n",
       "    <tr>\n",
       "      <th>Yes</th>\n",
       "      <td>888</td>\n",
       "      <td>308</td>\n",
       "    </tr>\n",
       "  </tbody>\n",
       "</table>\n",
       "</div>"
      ],
      "text/plain": [
       "senior_citizen     0    1\n",
       "churn                    \n",
       "No              2888  423\n",
       "Yes              888  308"
      ]
     },
     "execution_count": 16,
     "metadata": {},
     "output_type": "execute_result"
    }
   ],
   "source": [
    "# conduct statistical analysis of churn x senior_citizen\n",
    "m.chi2_test(train['churn'],train['senior_citizen'])"
   ]
  },
  {
   "cell_type": "code",
   "execution_count": 53,
   "metadata": {},
   "outputs": [
    {
     "data": {
      "image/png": "[encoded data removed]",
      "text/plain": [
       "<Figure size 640x480 with 1 Axes>"
      ]
     },
     "metadata": {},
     "output_type": "display_data"
    }
   ],
   "source": [
    "ax = sns.countplot(data=train,x='senior_citizen',hue='churn',alpha=0.8,linewidth=.4,edgecolor='black')\n",
    "m.without_hue(ax,train.contract_type)"
   ]
  },
  {
   "cell_type": "code",
   "execution_count": null,
   "metadata": {},
   "outputs": [],
   "source": []
  }
 ],
 "metadata": {
  "kernelspec": {
   "display_name": "codeup",
   "language": "python",
   "name": "python3"
  },
  "language_info": {
   "codemirror_mode": {
    "name": "ipython",
    "version": 3
   },
   "file_extension": ".py",
   "mimetype": "text/x-python",
   "name": "python",
   "nbconvert_exporter": "python",
   "pygments_lexer": "ipython3",
   "version": "3.11.4"
  },
  "orig_nbformat": 4
 },
 "nbformat": 4,
 "nbformat_minor": 2
}
